{
 "cells": [
  {
   "cell_type": "markdown",
   "metadata": {},
   "source": [
    "# Welcome to My Data Science Blog\n\n",
    "This is an example notebook that demonstrates how to create content for your blog.\n\n",
    "## Getting Started\n\n",
    "1. Write your analysis in Jupyter notebooks\n",
    "2. Save them in the `notebooks/` directory\n",
    "3. Push to GitHub\n",
    "4. Your blog updates automatically!"
   ]
  },
  {
   "cell_type": "code",
   "execution_count": null,
   "metadata": {},
   "outputs": [],
   "source": [
    "import pandas as pd\n",
    "import numpy as np\n",
    "import plotly.express as px\n",
    "\n",
    "# Create sample data\n",
    "data = {\n",
    "    'x': range(10),\n",
    "    'y': np.random.randn(10).cumsum()\n",
    "}\n",
    "df = pd.DataFrame(data)\n",
    "\n",
    "# Create interactive plot\n",
    "fig = px.line(df, x='x', y='y', title='Sample Interactive Plot')\n",
    "fig.show()"
   ]
  },
  {
   "cell_type": "markdown",
   "metadata": {},
   "source": [
    "## Conclusion\n\n",
    "This is how easy it is to create a blog post! Your Plotly charts, Seaborn plots, and all other visualizations will work perfectly."
   ]
  }
 ],
 "metadata": {
  "kernelspec": {
   "display_name": "Python 3",
   "language": "python",
   "name": "python3"
  },
  "language_info": {
   "codemirror_mode": {
    "name": "ipython",
    "version": 3
   },
   "file_extension": ".py",
   "mimetype": "text/x-python",
   "name": "python",
   "nbconvert_exporter": "python",
   "pygments_lexer": "ipython3",
   "version": "3.9.0"
  },
  "blog_metadata": {
   "title": "Welcome to My Data Science Blog",
   "description": "An introduction to this automated Jupyter notebook blog system with interactive visualizations and easy publishing.",
   "tags": [
    "welcome",
    "introduction",
    "jupyter",
    "blogging",
    "data-science"
   ],
   "category": "Getting Started",
   "created_date": "2025-08-13T13:25:51.931155",
   "updated_date": "2025-08-13T13:25:51.931155"
  }
 },
 "nbformat": 4,
 "nbformat_minor": 4
}